{
 "cells": [
  {
   "cell_type": "markdown",
   "id": "774de45c-57a9-4c21-a9c2-b2d5d1c473e8",
   "metadata": {},
   "source": [
    "# Online Shoppers Purchasing Intention Clustering"
   ]
  },
  {
   "cell_type": "markdown",
   "id": "eb7058f0-5a14-4447-9604-ec60589b87ab",
   "metadata": {},
   "source": [
    "Isaiah Jenkins"
   ]
  },
  {
   "cell_type": "markdown",
   "id": "67328670-2042-411d-9f81-3598e5b06d4f",
   "metadata": {},
   "source": [
    "## Import the required libraries"
   ]
  },
  {
   "cell_type": "markdown",
   "id": "f2461d69-995f-4932-a4ae-241c94b9c93f",
   "metadata": {},
   "source": [
    "## 1. About the data"
   ]
  },
  {
   "cell_type": "markdown",
   "id": "1b2103e3-88bf-4969-ba23-9a45f71b6265",
   "metadata": {},
   "source": [
    "1. a. Description\n",
    "\n",
    "Throughout this analysis we will explore online shoppers purchasing habits and online activity to achieve shopper segmentation. Of the 12,330 sessions in the dataset, 84.5% (10,422) were negative class samples that did not end with shopping, and the rest (1908) were positive class samples ending with shopping."
   ]
  },
  {
   "cell_type": "markdown",
   "id": "788ed298-4f8c-41b2-b6f0-de7678321a47",
   "metadata": {},
   "source": [
    "1. b. Attributes dictionary, 17 features, 10 numerical, 8 categorical\n",
    "\n",
    "Administrative, Administrative Duration, Informational, Informational Duration, Product Related, Product Related Duration \n",
    "- The number of different types of pages visited by the visitor in that session and total time spent in each of these page categories\n",
    "  \n",
    "Bounce Rates, Exit Rates, Page Value\n",
    "- Metrics measured by \"Google Analytics\" for each page in the e-commerce site. The value of \"Bounce Rate\" feature for a web page refers to the percentage of visitors who enter the site from that page and then leave (\"bounce\") without triggering any other requests to the analytics server during that session. The value of \"Exit Rate\" feature for a specific web page is calculated as for all page views to the page, the percentage that were the last in the session. The \"Page Value\" feature represents the average value for a web page that a user visited before completing an e-commerce transaction.\n",
    "\n",
    "Special Day\n",
    "- Indicates the closeness of the site visiting time to a specific special day (e.g. Mother’s Day, Valentine's Day) in which the sessions are more likely to be finalized with transaction. The value of this attribute is determined by considering the dynamics of e-commerce such as the duration between the order date and delivery date.\n",
    "\n",
    "Month, Operating Systems, Browser, Traffic Type\n",
    "- General information\n",
    "\n",
    "Visitor Type \n",
    "- returning or new visitor category\n",
    "\n",
    "Weekend\n",
    "- Boolean value indicating whether the date of the visit is weekend\n",
    "  \n",
    "Revenue\n",
    "- Whether shopper generated revenue for company"
   ]
  },
  {
   "cell_type": "markdown",
   "id": "b27804b6-2e0f-4d4a-8784-2b01e681db1e",
   "metadata": {},
   "source": [
    "## 2. Objectives"
   ]
  },
  {
   "cell_type": "markdown",
   "id": "36913314-f6da-404d-8491-3daf6283fa5c",
   "metadata": {},
   "source": [
    "Throughout this analysis we will explore and build different clustering models to segment between shoppers that did and did not buy products. A possible problems that could occur may include effective clustering because of fewer samples ending with shopping versus no shopping because 84.5% were negative class samples that did not end with shopping. However, with sophisticated clustering models we should be able to obtain proper segmentation."
   ]
  },
  {
   "cell_type": "markdown",
   "id": "284055bd-b5b1-4d67-8061-15e524a2d1b0",
   "metadata": {},
   "source": [
    "## 3. Data Exploration, Cleaning and Feature Engineering"
   ]
  },
  {
   "cell_type": "markdown",
   "id": "d6d3583e-a618-4706-afb8-c286a6589e85",
   "metadata": {},
   "source": [
    "### Load in data"
   ]
  },
  {
   "cell_type": "markdown",
   "id": "547302bb-97ca-4516-a3ad-b853211b138f",
   "metadata": {},
   "source": [
    "### Summary of Models"
   ]
  },
  {
   "cell_type": "markdown",
   "id": "f26ac030-0207-4e80-8554-6d9f1ad9a509",
   "metadata": {},
   "source": [
    "## 5. Insights and Key Findings"
   ]
  },
  {
   "cell_type": "markdown",
   "id": "42ac0ae8-cb86-46b4-91ef-698a8e6d4117",
   "metadata": {},
   "source": [
    "## 6. Next Steps"
   ]
  },
  {
   "cell_type": "code",
   "execution_count": null,
   "id": "2a448209-decb-40a2-b84b-8b835ab7d1ce",
   "metadata": {},
   "outputs": [],
   "source": []
  }
 ],
 "metadata": {
  "kernelspec": {
   "display_name": "Python 3 (ipykernel)",
   "language": "python",
   "name": "python3"
  },
  "language_info": {
   "codemirror_mode": {
    "name": "ipython",
    "version": 3
   },
   "file_extension": ".py",
   "mimetype": "text/x-python",
   "name": "python",
   "nbconvert_exporter": "python",
   "pygments_lexer": "ipython3",
   "version": "3.11.5"
  }
 },
 "nbformat": 4,
 "nbformat_minor": 5
}
