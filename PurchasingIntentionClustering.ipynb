{
 "cells": [
  {
   "cell_type": "markdown",
   "id": "774de45c-57a9-4c21-a9c2-b2d5d1c473e8",
   "metadata": {},
   "source": [
    "# Online Shoppers Purchasing Intention Clustering"
   ]
  },
  {
   "cell_type": "markdown",
   "id": "eb7058f0-5a14-4447-9604-ec60589b87ab",
   "metadata": {},
   "source": [
    "Isaiah Jenkins"
   ]
  },
  {
   "cell_type": "markdown",
   "id": "67328670-2042-411d-9f81-3598e5b06d4f",
   "metadata": {},
   "source": [
    "## Import the required libraries"
   ]
  },
  {
   "cell_type": "markdown",
   "id": "f2461d69-995f-4932-a4ae-241c94b9c93f",
   "metadata": {},
   "source": [
    "## 1. About the data"
   ]
  },
  {
   "cell_type": "markdown",
   "id": "b27804b6-2e0f-4d4a-8784-2b01e681db1e",
   "metadata": {},
   "source": [
    "## 2. Objectives"
   ]
  },
  {
   "cell_type": "markdown",
   "id": "284055bd-b5b1-4d67-8061-15e524a2d1b0",
   "metadata": {},
   "source": [
    "## 3. Data Exploration, Cleaning and Feature Engineering"
   ]
  },
  {
   "cell_type": "markdown",
   "id": "d6d3583e-a618-4706-afb8-c286a6589e85",
   "metadata": {},
   "source": [
    "### Load in data"
   ]
  },
  {
   "cell_type": "markdown",
   "id": "65d60a4d-29b4-4826-a765-783d6db5347f",
   "metadata": {},
   "source": [
    "## 4. Classification Models"
   ]
  },
  {
   "cell_type": "markdown",
   "id": "547302bb-97ca-4516-a3ad-b853211b138f",
   "metadata": {},
   "source": [
    "### Summary of Models"
   ]
  },
  {
   "cell_type": "markdown",
   "id": "f26ac030-0207-4e80-8554-6d9f1ad9a509",
   "metadata": {},
   "source": [
    "## 5. Insights and Key Findings"
   ]
  },
  {
   "cell_type": "markdown",
   "id": "42ac0ae8-cb86-46b4-91ef-698a8e6d4117",
   "metadata": {},
   "source": [
    "## 6. Next Steps"
   ]
  },
  {
   "cell_type": "code",
   "execution_count": null,
   "id": "2a448209-decb-40a2-b84b-8b835ab7d1ce",
   "metadata": {},
   "outputs": [],
   "source": []
  }
 ],
 "metadata": {
  "kernelspec": {
   "display_name": "Python 3 (ipykernel)",
   "language": "python",
   "name": "python3"
  },
  "language_info": {
   "codemirror_mode": {
    "name": "ipython",
    "version": 3
   },
   "file_extension": ".py",
   "mimetype": "text/x-python",
   "name": "python",
   "nbconvert_exporter": "python",
   "pygments_lexer": "ipython3",
   "version": "3.11.5"
  }
 },
 "nbformat": 4,
 "nbformat_minor": 5
}
